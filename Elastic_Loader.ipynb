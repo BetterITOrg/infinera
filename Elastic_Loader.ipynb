{
 "cells": [
  {
   "cell_type": "code",
   "execution_count": 2,
   "metadata": {
    "scrolled": true
   },
   "outputs": [
    {
     "name": "stdout",
     "output_type": "stream",
     "text": [
      "Collecting elasticsearch\n",
      "  Downloading elasticsearch-7.7.1-py2.py3-none-any.whl (99 kB)\n",
      "Requirement already satisfied: certifi in c:\\users\\murta\\anaconda3\\lib\\site-packages (from elasticsearch) (2019.11.28)\n",
      "Requirement already satisfied: urllib3>=1.21.1 in c:\\users\\murta\\anaconda3\\lib\\site-packages (from elasticsearch) (1.25.8)\n",
      "Installing collected packages: elasticsearch\n",
      "Successfully installed elasticsearch-7.7.1\n"
     ]
    }
   ],
   "source": [
    "# !pip install elasticsearch"
   ]
  },
  {
   "cell_type": "code",
   "execution_count": 9,
   "metadata": {
    "scrolled": true
   },
   "outputs": [],
   "source": [
    "from elasticsearch import Elasticsearch, helpers\n",
    "import json\n",
    "\n",
    "es = Elasticsearch(\"localhost:9200\", timeout=30)\n",
    "# print(os.listdir(directory))\n",
    "filename = r\"C:/Users/murta/circuitpath.json\"\n",
    "# f = open('circuitpath.json',)\n",
    "# data = json.load(f)\n",
    "# data[0]\n",
    "# def load_json(filename):\n",
    "#     with open(filename,'r') as open_file:\n",
    "#         data = json.loads(open_file)\n",
    "#         for row in json.loads(data):\n",
    "#             yield row"
   ]
  },
  {
   "cell_type": "markdown",
   "metadata": {},
   "source": [
    "# Method 1 - Using Bulk"
   ]
  },
  {
   "cell_type": "code",
   "execution_count": 2,
   "metadata": {},
   "outputs": [],
   "source": [
    "f = open('circuitpath.json',)"
   ]
  },
  {
   "cell_type": "code",
   "execution_count": 3,
   "metadata": {},
   "outputs": [],
   "source": [
    "data = json.load(f)  # Use json.load() when converting file to string"
   ]
  },
  {
   "cell_type": "code",
   "execution_count": 4,
   "metadata": {},
   "outputs": [],
   "source": [
    "data_json = json.loads(data) #Use json.loads() when converting string to dict"
   ]
  },
  {
   "cell_type": "code",
   "execution_count": 6,
   "metadata": {},
   "outputs": [],
   "source": [
    "def load_json(data_json):\n",
    "    for row in data_json:\n",
    "        yield row"
   ]
  },
  {
   "cell_type": "code",
   "execution_count": 10,
   "metadata": {
    "scrolled": false
   },
   "outputs": [
    {
     "data": {
      "text/plain": [
       "(2768799, [])"
      ]
     },
     "execution_count": 10,
     "metadata": {},
     "output_type": "execute_result"
    }
   ],
   "source": [
    "helpers.bulk(es, load_json(data_json), index='circuitpath')"
   ]
  },
  {
   "cell_type": "markdown",
   "metadata": {},
   "source": [
    "# Method 2 - Using streaming_bulk"
   ]
  },
  {
   "cell_type": "code",
   "execution_count": null,
   "metadata": {},
   "outputs": [],
   "source": [
    "# stream = helpers.streaming_bulk(es, actions= load_json(filename), index='generated', doc_type='generated_data', chunk_size=10)"
   ]
  },
  {
   "cell_type": "code",
   "execution_count": null,
   "metadata": {},
   "outputs": [],
   "source": [
    "# success, failed = 0, 0\n",
    "\n",
    "# # list of errors to be collected is not stats_only\n",
    "# errors = []\n",
    "\n",
    "# for ok, item in stream:\n",
    "#     # go through request-reponse pairs and detect failures\n",
    "#     if not ok:\n",
    "#         if not stats_only:\n",
    "#             errors.append(item)\n",
    "#         failed += 1\n",
    "#     else:\n",
    "#         success += 1\n",
    "\n",
    "# return success, failed if stats_only else errors"
   ]
  }
 ],
 "metadata": {
  "kernelspec": {
   "display_name": "Python 3",
   "language": "python",
   "name": "python3"
  },
  "language_info": {
   "codemirror_mode": {
    "name": "ipython",
    "version": 3
   },
   "file_extension": ".py",
   "mimetype": "text/x-python",
   "name": "python",
   "nbconvert_exporter": "python",
   "pygments_lexer": "ipython3",
   "version": "3.7.6"
  }
 },
 "nbformat": 4,
 "nbformat_minor": 2
}
